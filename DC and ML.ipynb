{
 "cells": [
  {
   "cell_type": "markdown",
   "metadata": {},
   "source": [
    "## Load data and do cleaning"
   ]
  },
  {
   "cell_type": "code",
   "execution_count": 1,
   "metadata": {},
   "outputs": [
    {
     "data": {
      "text/plain": [
       "['Stock Ticker',\n",
       " 'Previous Close',\n",
       " 'Open',\n",
       " 'Bid',\n",
       " 'Ask',\n",
       " \"Day's Range\",\n",
       " '52 Week Range',\n",
       " 'Volume',\n",
       " 'Avg. Volume',\n",
       " 'Market Cap',\n",
       " 'Beta (3Y Monthly)',\n",
       " 'PE Ratio (TTM)',\n",
       " 'EPS (TTM)',\n",
       " 'Forward Dividend',\n",
       " 'Forward Yeild',\n",
       " 'Ex-Dividend Date']"
      ]
     },
     "execution_count": 1,
     "metadata": {},
     "output_type": "execute_result"
    }
   ],
   "source": [
    "# Dependencies and Setup\n",
    "import pandas as pd\n",
    "import numpy as np\n",
    "from pylab import plot,show\n",
    "from numpy import vstack,array\n",
    "from numpy.random import rand\n",
    "from scipy.cluster.vq import kmeans,vq\n",
    "from math import sqrt\n",
    "from sklearn.cluster import KMeans\n",
    "from matplotlib import pyplot as plt\n",
    "import matplotlib.pyplot as plt\n",
    "import copy\n",
    "\n",
    "# File to Load (Remember to Change These)\n",
    "file_to_load = \"Resources/final_df.csv\"\n",
    "\n",
    "# Read File and store into Pandas data frame, dropna\n",
    "final_pre = pd.read_csv(file_to_load)\n",
    "final_drop = final_pre.drop('Earnings Date',axis=1).drop('1y Target Est',axis = 1).dropna()\n",
    "final_drop.head()\n",
    "list(final_drop)"
   ]
  },
  {
   "cell_type": "code",
   "execution_count": 2,
   "metadata": {},
   "outputs": [],
   "source": [
    "# Create column \"Dividend yield\"\n",
    "final_drop['Dividend_yield'] = final_drop['Forward Dividend']/final_drop['Previous Close']\n",
    "data =final_drop\n",
    "data.count()\n",
    "data\n",
    "data.to_csv(\"data2019.csv\", index=True, header=True)"
   ]
  },
  {
   "cell_type": "code",
   "execution_count": null,
   "metadata": {},
   "outputs": [],
   "source": []
  },
  {
   "cell_type": "markdown",
   "metadata": {},
   "source": [
    "## Machine learning K-means clustering"
   ]
  },
  {
   "cell_type": "markdown",
   "metadata": {},
   "source": [
    "* Using K-Means Algorithm in clustering stocks from S&P500\n"
   ]
  },
  {
   "cell_type": "code",
   "execution_count": 4,
   "metadata": {},
   "outputs": [
    {
     "data": {
      "text/plain": [
       "<matplotlib.collections.PathCollection at 0x232cacd4e48>"
      ]
     },
     "execution_count": 4,
     "metadata": {},
     "output_type": "execute_result"
    },
    {
     "data": {
      "image/png": "[encoded data removed]",
      "text/plain": [
       "<Figure size 432x288 with 1 Axes>"
      ]
     },
     "metadata": {
      "needs_background": "light"
     },
     "output_type": "display_data"
    }
   ],
   "source": [
    "# Getting the PE ratios and Dividend yield values and plotting it\n",
    "f1 = data['PE Ratio (TTM)'].values\n",
    "f2 = data['Dividend_yield'].values\n",
    "X = np.array(list(zip(f1, f2)))\n",
    "plt.scatter(f1, f2, c='black', s=7)\n"
   ]
  },
  {
   "cell_type": "code",
   "execution_count": null,
   "metadata": {},
   "outputs": [],
   "source": []
  },
  {
   "cell_type": "markdown",
   "metadata": {},
   "source": [
    "* There's one obvious outlier so we want to get rid of it\n"
   ]
  },
  {
   "cell_type": "code",
   "execution_count": 5,
   "metadata": {},
   "outputs": [
    {
     "data": {
      "text/plain": [
       "Stock Ticker         305\n",
       "Previous Close       305\n",
       "Open                 305\n",
       "Bid                  305\n",
       "Ask                  305\n",
       "Day's Range          305\n",
       "52 Week Range        305\n",
       "Volume               305\n",
       "Avg. Volume          305\n",
       "Market Cap           305\n",
       "Beta (3Y Monthly)    305\n",
       "PE Ratio (TTM)       305\n",
       "EPS (TTM)            305\n",
       "Forward Dividend     305\n",
       "Forward Yeild        305\n",
       "Ex-Dividend Date     305\n",
       "Dividend_yield       305\n",
       "dtype: int64"
      ]
     },
     "execution_count": 5,
     "metadata": {},
     "output_type": "execute_result"
    }
   ],
   "source": [
    "data['PE Ratio (TTM)'].max()\n",
    "data_final=data[data['PE Ratio (TTM)'] != 523.64]\n",
    "data_final.count()"
   ]
  },
  {
   "cell_type": "code",
   "execution_count": 6,
   "metadata": {},
   "outputs": [
    {
     "data": {
      "text/plain": [
       "Text(0, 0.5, 'Dividend yield')"
      ]
     },
     "execution_count": 6,
     "metadata": {},
     "output_type": "execute_result"
    },
    {
     "data": {
      "image/png": "[encoded data removed]",
      "text/plain": [
       "<Figure size 432x288 with 1 Axes>"
      ]
     },
     "metadata": {
      "needs_background": "light"
     },
     "output_type": "display_data"
    }
   ],
   "source": [
    "# Replot the data\n",
    "f1 = data_final['PE Ratio (TTM)'].values\n",
    "f2 = data_final['Dividend_yield'].values\n",
    "X = np.array(list(zip(f1, f2)))\n",
    "plt.scatter(f1, f2, c='black', s=7)\n",
    "plt.title('P/E ratios vs. Dividend yields for S&P 500')\n",
    "plt.xlabel('P/E ratios')\n",
    "plt.ylabel('Dividend yield')"
   ]
  },
  {
   "cell_type": "code",
   "execution_count": 7,
   "metadata": {},
   "outputs": [],
   "source": [
    "# Euclidean Distance Caculator\n",
    "def dist(a, b, ax=1):\n",
    "    return np.linalg.norm(a - b, axis=ax)"
   ]
  },
  {
   "cell_type": "code",
   "execution_count": 8,
   "metadata": {},
   "outputs": [
    {
     "name": "stdout",
     "output_type": "stream",
     "text": [
      "[[68.  1.]\n",
      " [11.  2.]\n",
      " [ 0.  4.]\n",
      " [55.  2.]\n",
      " [50.  1.]\n",
      " [12.  3.]]\n"
     ]
    }
   ],
   "source": [
    "# Number of clusters\n",
    "k = 6\n",
    "# X coordinates of random centroids\n",
    "C_x = np.random.randint(0, np.max(X)-20, size=k)\n",
    "# Y coordinates of random centroids\n",
    "C_y = np.random.randint(0, np.max(X)-133, size=k)\n",
    "C = np.array(list(zip(C_x, C_y)), dtype=np.float32)\n",
    "print(C)"
   ]
  },
  {
   "cell_type": "code",
   "execution_count": 9,
   "metadata": {
    "scrolled": true
   },
   "outputs": [
    {
     "data": {
      "text/plain": [
       "Text(0, 0.5, 'Dividend yield')"
      ]
     },
     "execution_count": 9,
     "metadata": {},
     "output_type": "execute_result"
    },
    {
     "data": {
      "image/png": "[encoded data removed]",
      "text/plain": [
       "<Figure size 432x288 with 1 Axes>"
      ]
     },
     "metadata": {
      "needs_background": "light"
     },
     "output_type": "display_data"
    }
   ],
   "source": [
    "# Plotting along with the Centroids\n",
    "plt.scatter(f1, f2, c='#050505', s=7)\n",
    "plt.scatter(C_x, C_y, marker='*', s=100, c='g')\n",
    "plt.title('P/E ratios vs. Dividend yields for S&P 500')\n",
    "plt.xlabel('P/E ratios')\n",
    "plt.ylabel('Dividend yield')"
   ]
  },
  {
   "cell_type": "code",
   "execution_count": 10,
   "metadata": {},
   "outputs": [],
   "source": [
    "# To store the value of centroids when it updates\n",
    "C_old = np.zeros(C.shape)\n",
    "# Cluster Lables(0, 1, 2 etc)\n",
    "clusters = np.zeros(len(X))\n",
    "# Error func. - Distance between new centroids and old centroids\n",
    "error = dist(C, C_old, None)\n",
    "# Loop will run till the error becomes zero\n",
    "while error != 0:\n",
    "    # Assigning each value to its closest cluster\n",
    "    for i in range(len(X)):\n",
    "        distances = dist(X[i], C)\n",
    "        cluster = np.argmin(distances)\n",
    "        clusters[i] = cluster\n",
    "    # Storing the old centroid values\n",
    "    C_old = copy.deepcopy(C)\n",
    "    # Finding the new centroids by taking the average value\n",
    "    for i in range(k):\n",
    "        points = [X[j] for j in range(len(X)) if clusters[j] == i]\n",
    "        C[i] = np.mean(points, axis=0)\n",
    "    error = dist(C, C_old, None)"
   ]
  },
  {
   "cell_type": "code",
   "execution_count": 25,
   "metadata": {},
   "outputs": [
    {
     "data": {
      "text/plain": [
       "Text(0, 0.5, 'Dividend yield')"
      ]
     },
     "execution_count": 25,
     "metadata": {},
     "output_type": "execute_result"
    },
    {
     "data": {
      "image/png": "[encoded data removed]",
      "text/plain": [
       "<Figure size 432x288 with 1 Axes>"
      ]
     },
     "metadata": {
      "needs_background": "light"
     },
     "output_type": "display_data"
    }
   ],
   "source": [
    "colors = ['r', 'g', 'b', 'y', 'c', 'm']\n",
    "fig, ax = plt.subplots()\n",
    "for i in range(k):\n",
    "        points = np.array([X[j] for j in range(len(X)) if clusters[j] == i])\n",
    "        ax.scatter(points[:, 0], points[:, 1], s=7, c=colors[i])\n",
    "ax.scatter(C[:, 0], C[:, 1], marker='*', s=200, c='#050505')\n",
    "plt.title('P/E ratios vs. Dividend yields for S&P 500')\n",
    "plt.xlabel('P/E ratios')\n",
    "plt.ylabel('Dividend yield')"
   ]
  },
  {
   "cell_type": "code",
   "execution_count": 26,
   "metadata": {},
   "outputs": [],
   "source": [
    "# computing K-Means with K = 6 (6 clusters)\n",
    "centroids,_ = kmeans(f1,6)\n",
    "# assign each sample to a cluster\n",
    "idx,_ = vq(f1,centroids)"
   ]
  },
  {
   "cell_type": "code",
   "execution_count": 27,
   "metadata": {},
   "outputs": [
    {
     "name": "stdout",
     "output_type": "stream",
     "text": [
      "[(12.89, 0), (13.12, 0), (13.6, 0), (8.45, 0), (10.63, 0), (9.02, 0), (11.43, 0), (13.46, 0), (12.92, 0), (11.46, 0), (10.59, 0), (9.36, 0), (7.89, 0), (11.13, 0), (9.77, 0), (12.3, 0), (4.47, 0), (6.92, 0), (9.54, 0), (9.41, 0), (8.3, 0), (9.03, 0), (10.46, 0), (12.77, 0), (7.72, 0), (2.36, 0), (9.43, 0), (6.54, 0), (9.91, 0), (11.33, 0), (11.0, 0), (9.56, 0), (9.8, 0), (9.39, 0), (10.11, 0), (7.07, 0), (5.72, 0), (9.35, 0), (7.86, 0), (12.93, 0), (10.1, 0), (13.47, 0), (11.91, 0), (11.34, 0), (6.27, 0), (11.4, 0), (12.11, 0), (10.77, 0), (12.54, 0), (11.16, 0), (6.61, 0), (12.2, 0), (11.27, 0), (11.31, 0), (12.01, 0), (8.0, 0), (10.07, 0), (13.62, 0), (8.58, 0), (9.24, 0), (4.69, 0), (9.8, 0), (7.66, 0), (9.62, 0), (6.45, 0), (11.78, 0), (7.29, 0), (8.06, 0), (12.67, 0), (10.75, 0), (12.72, 0), (9.34, 0), (13.04, 0), (13.36, 0), (10.68, 0), (13.11, 0), (9.23, 0), (11.6, 0), (10.04, 0), (9.95, 0), (12.73, 0), (7.86, 0), (12.36, 0), (12.9, 0), (12.61, 0), (6.17, 0), (11.87, 0), (10.28, 0), (12.88, 0), (11.89, 0), (13.55, 0), (12.91, 0), (11.83, 0), (5.4, 0), (4.22, 0), (10.68, 0), (10.86, 0), (8.89, 0), (11.54, 0), (13.59, 0), (10.99, 0)]\n"
     ]
    }
   ],
   "source": [
    "details = [(PE,cluster) for PE, cluster in zip(f1,idx)]\n",
    "selected = []\n",
    "detailDict = {}\n",
    "for detail in details:\n",
    "    if detail[1]==0:\n",
    "        selected.append(detail)\n",
    "print(selected)\n"
   ]
  },
  {
   "cell_type": "code",
   "execution_count": 28,
   "metadata": {},
   "outputs": [],
   "source": [
    "selected_df = pd.DataFrame(selected)\n",
    "# selected_df"
   ]
  },
  {
   "cell_type": "code",
   "execution_count": 29,
   "metadata": {},
   "outputs": [
    {
     "data": {
      "text/html": [
       "<div>\n",
       "<style scoped>\n",
       "    .dataframe tbody tr th:only-of-type {\n",
       "        vertical-align: middle;\n",
       "    }\n",
       "\n",
       "    .dataframe tbody tr th {\n",
       "        vertical-align: top;\n",
       "    }\n",
       "\n",
       "    .dataframe thead th {\n",
       "        text-align: right;\n",
       "    }\n",
       "</style>\n",
       "<table border=\"1\" class=\"dataframe\">\n",
       "  <thead>\n",
       "    <tr style=\"text-align: right;\">\n",
       "      <th></th>\n",
       "      <th>PE Ratio (TTM)</th>\n",
       "      <th>Cluster</th>\n",
       "      <th>Stock Ticker</th>\n",
       "    </tr>\n",
       "  </thead>\n",
       "  <tbody>\n",
       "    <tr>\n",
       "      <th>0</th>\n",
       "      <td>12.89</td>\n",
       "      <td>0</td>\n",
       "      <td>AFL</td>\n",
       "    </tr>\n",
       "    <tr>\n",
       "      <th>1</th>\n",
       "      <td>13.12</td>\n",
       "      <td>0</td>\n",
       "      <td>ALB</td>\n",
       "    </tr>\n",
       "    <tr>\n",
       "      <th>2</th>\n",
       "      <td>13.60</td>\n",
       "      <td>0</td>\n",
       "      <td>MO</td>\n",
       "    </tr>\n",
       "    <tr>\n",
       "      <th>3</th>\n",
       "      <td>8.45</td>\n",
       "      <td>0</td>\n",
       "      <td>AAL</td>\n",
       "    </tr>\n",
       "    <tr>\n",
       "      <th>4</th>\n",
       "      <td>10.63</td>\n",
       "      <td>0</td>\n",
       "      <td>AMP</td>\n",
       "    </tr>\n",
       "    <tr>\n",
       "      <th>5</th>\n",
       "      <td>9.02</td>\n",
       "      <td>0</td>\n",
       "      <td>AIV</td>\n",
       "    </tr>\n",
       "    <tr>\n",
       "      <th>6</th>\n",
       "      <td>11.43</td>\n",
       "      <td>0</td>\n",
       "      <td>BAC</td>\n",
       "    </tr>\n",
       "    <tr>\n",
       "      <th>7</th>\n",
       "      <td>13.46</td>\n",
       "      <td>0</td>\n",
       "      <td>BBT</td>\n",
       "    </tr>\n",
       "    <tr>\n",
       "      <th>8</th>\n",
       "      <td>12.92</td>\n",
       "      <td>0</td>\n",
       "      <td>BBY</td>\n",
       "    </tr>\n",
       "    <tr>\n",
       "      <th>9</th>\n",
       "      <td>11.46</td>\n",
       "      <td>0</td>\n",
       "      <td>HRB</td>\n",
       "    </tr>\n",
       "    <tr>\n",
       "      <th>10</th>\n",
       "      <td>10.59</td>\n",
       "      <td>0</td>\n",
       "      <td>BWA</td>\n",
       "    </tr>\n",
       "    <tr>\n",
       "      <th>11</th>\n",
       "      <td>9.36</td>\n",
       "      <td>0</td>\n",
       "      <td>COG</td>\n",
       "    </tr>\n",
       "    <tr>\n",
       "      <th>12</th>\n",
       "      <td>7.89</td>\n",
       "      <td>0</td>\n",
       "      <td>COF</td>\n",
       "    </tr>\n",
       "    <tr>\n",
       "      <th>13</th>\n",
       "      <td>11.13</td>\n",
       "      <td>0</td>\n",
       "      <td>CAH</td>\n",
       "    </tr>\n",
       "    <tr>\n",
       "      <th>14</th>\n",
       "      <td>9.77</td>\n",
       "      <td>0</td>\n",
       "      <td>CCL</td>\n",
       "    </tr>\n",
       "    <tr>\n",
       "      <th>15</th>\n",
       "      <td>12.30</td>\n",
       "      <td>0</td>\n",
       "      <td>CAT</td>\n",
       "    </tr>\n",
       "    <tr>\n",
       "      <th>16</th>\n",
       "      <td>4.47</td>\n",
       "      <td>0</td>\n",
       "      <td>CBS</td>\n",
       "    </tr>\n",
       "    <tr>\n",
       "      <th>17</th>\n",
       "      <td>6.92</td>\n",
       "      <td>0</td>\n",
       "      <td>XEC</td>\n",
       "    </tr>\n",
       "    <tr>\n",
       "      <th>18</th>\n",
       "      <td>9.54</td>\n",
       "      <td>0</td>\n",
       "      <td>C</td>\n",
       "    </tr>\n",
       "    <tr>\n",
       "      <th>19</th>\n",
       "      <td>9.41</td>\n",
       "      <td>0</td>\n",
       "      <td>CFG</td>\n",
       "    </tr>\n",
       "    <tr>\n",
       "      <th>20</th>\n",
       "      <td>8.30</td>\n",
       "      <td>0</td>\n",
       "      <td>CMA</td>\n",
       "    </tr>\n",
       "    <tr>\n",
       "      <th>21</th>\n",
       "      <td>9.03</td>\n",
       "      <td>0</td>\n",
       "      <td>COP</td>\n",
       "    </tr>\n",
       "    <tr>\n",
       "      <th>22</th>\n",
       "      <td>10.46</td>\n",
       "      <td>0</td>\n",
       "      <td>CMI</td>\n",
       "    </tr>\n",
       "    <tr>\n",
       "      <th>23</th>\n",
       "      <td>12.77</td>\n",
       "      <td>0</td>\n",
       "      <td>DHI</td>\n",
       "    </tr>\n",
       "    <tr>\n",
       "      <th>24</th>\n",
       "      <td>7.72</td>\n",
       "      <td>0</td>\n",
       "      <td>DAL</td>\n",
       "    </tr>\n",
       "    <tr>\n",
       "      <th>25</th>\n",
       "      <td>2.36</td>\n",
       "      <td>0</td>\n",
       "      <td>DVN</td>\n",
       "    </tr>\n",
       "    <tr>\n",
       "      <th>26</th>\n",
       "      <td>9.43</td>\n",
       "      <td>0</td>\n",
       "      <td>DFS</td>\n",
       "    </tr>\n",
       "    <tr>\n",
       "      <th>27</th>\n",
       "      <td>6.54</td>\n",
       "      <td>0</td>\n",
       "      <td>DXC</td>\n",
       "    </tr>\n",
       "    <tr>\n",
       "      <th>28</th>\n",
       "      <td>9.91</td>\n",
       "      <td>0</td>\n",
       "      <td>ETFC</td>\n",
       "    </tr>\n",
       "    <tr>\n",
       "      <th>29</th>\n",
       "      <td>11.33</td>\n",
       "      <td>0</td>\n",
       "      <td>EMN</td>\n",
       "    </tr>\n",
       "    <tr>\n",
       "      <th>...</th>\n",
       "      <td>...</td>\n",
       "      <td>...</td>\n",
       "      <td>...</td>\n",
       "    </tr>\n",
       "    <tr>\n",
       "      <th>77</th>\n",
       "      <td>13.04</td>\n",
       "      <td>0</td>\n",
       "      <td>PNC</td>\n",
       "    </tr>\n",
       "    <tr>\n",
       "      <th>78</th>\n",
       "      <td>13.36</td>\n",
       "      <td>0</td>\n",
       "      <td>PPL</td>\n",
       "    </tr>\n",
       "    <tr>\n",
       "      <th>79</th>\n",
       "      <td>10.68</td>\n",
       "      <td>0</td>\n",
       "      <td>PFG</td>\n",
       "    </tr>\n",
       "    <tr>\n",
       "      <th>80</th>\n",
       "      <td>10.68</td>\n",
       "      <td>0</td>\n",
       "      <td>WBA</td>\n",
       "    </tr>\n",
       "    <tr>\n",
       "      <th>81</th>\n",
       "      <td>10.68</td>\n",
       "      <td>0</td>\n",
       "      <td>PFG</td>\n",
       "    </tr>\n",
       "    <tr>\n",
       "      <th>82</th>\n",
       "      <td>10.68</td>\n",
       "      <td>0</td>\n",
       "      <td>WBA</td>\n",
       "    </tr>\n",
       "    <tr>\n",
       "      <th>83</th>\n",
       "      <td>13.11</td>\n",
       "      <td>0</td>\n",
       "      <td>PGR</td>\n",
       "    </tr>\n",
       "    <tr>\n",
       "      <th>84</th>\n",
       "      <td>9.23</td>\n",
       "      <td>0</td>\n",
       "      <td>PRU</td>\n",
       "    </tr>\n",
       "    <tr>\n",
       "      <th>85</th>\n",
       "      <td>11.60</td>\n",
       "      <td>0</td>\n",
       "      <td>PHM</td>\n",
       "    </tr>\n",
       "    <tr>\n",
       "      <th>86</th>\n",
       "      <td>10.04</td>\n",
       "      <td>0</td>\n",
       "      <td>PVH</td>\n",
       "    </tr>\n",
       "    <tr>\n",
       "      <th>87</th>\n",
       "      <td>9.95</td>\n",
       "      <td>0</td>\n",
       "      <td>RF</td>\n",
       "    </tr>\n",
       "    <tr>\n",
       "      <th>88</th>\n",
       "      <td>12.73</td>\n",
       "      <td>0</td>\n",
       "      <td>RCL</td>\n",
       "    </tr>\n",
       "    <tr>\n",
       "      <th>89</th>\n",
       "      <td>12.36</td>\n",
       "      <td>0</td>\n",
       "      <td>LUV</td>\n",
       "    </tr>\n",
       "    <tr>\n",
       "      <th>90</th>\n",
       "      <td>12.90</td>\n",
       "      <td>0</td>\n",
       "      <td>STT</td>\n",
       "    </tr>\n",
       "    <tr>\n",
       "      <th>91</th>\n",
       "      <td>12.61</td>\n",
       "      <td>0</td>\n",
       "      <td>STI</td>\n",
       "    </tr>\n",
       "    <tr>\n",
       "      <th>92</th>\n",
       "      <td>6.17</td>\n",
       "      <td>0</td>\n",
       "      <td>SYF</td>\n",
       "    </tr>\n",
       "    <tr>\n",
       "      <th>93</th>\n",
       "      <td>11.87</td>\n",
       "      <td>0</td>\n",
       "      <td>TPR</td>\n",
       "    </tr>\n",
       "    <tr>\n",
       "      <th>94</th>\n",
       "      <td>10.28</td>\n",
       "      <td>0</td>\n",
       "      <td>TEL</td>\n",
       "    </tr>\n",
       "    <tr>\n",
       "      <th>95</th>\n",
       "      <td>12.88</td>\n",
       "      <td>0</td>\n",
       "      <td>TXT</td>\n",
       "    </tr>\n",
       "    <tr>\n",
       "      <th>96</th>\n",
       "      <td>11.89</td>\n",
       "      <td>0</td>\n",
       "      <td>BK</td>\n",
       "    </tr>\n",
       "    <tr>\n",
       "      <th>97</th>\n",
       "      <td>13.55</td>\n",
       "      <td>0</td>\n",
       "      <td>TSN</td>\n",
       "    </tr>\n",
       "    <tr>\n",
       "      <th>98</th>\n",
       "      <td>12.91</td>\n",
       "      <td>0</td>\n",
       "      <td>USB</td>\n",
       "    </tr>\n",
       "    <tr>\n",
       "      <th>99</th>\n",
       "      <td>11.83</td>\n",
       "      <td>0</td>\n",
       "      <td>UNM</td>\n",
       "    </tr>\n",
       "    <tr>\n",
       "      <th>100</th>\n",
       "      <td>5.40</td>\n",
       "      <td>0</td>\n",
       "      <td>VIAB</td>\n",
       "    </tr>\n",
       "    <tr>\n",
       "      <th>101</th>\n",
       "      <td>4.22</td>\n",
       "      <td>0</td>\n",
       "      <td>VNO</td>\n",
       "    </tr>\n",
       "    <tr>\n",
       "      <th>102</th>\n",
       "      <td>10.86</td>\n",
       "      <td>0</td>\n",
       "      <td>WFC</td>\n",
       "    </tr>\n",
       "    <tr>\n",
       "      <th>103</th>\n",
       "      <td>8.89</td>\n",
       "      <td>0</td>\n",
       "      <td>WU</td>\n",
       "    </tr>\n",
       "    <tr>\n",
       "      <th>104</th>\n",
       "      <td>11.54</td>\n",
       "      <td>0</td>\n",
       "      <td>WRK</td>\n",
       "    </tr>\n",
       "    <tr>\n",
       "      <th>105</th>\n",
       "      <td>13.59</td>\n",
       "      <td>0</td>\n",
       "      <td>XRX</td>\n",
       "    </tr>\n",
       "    <tr>\n",
       "      <th>106</th>\n",
       "      <td>10.99</td>\n",
       "      <td>0</td>\n",
       "      <td>ZION</td>\n",
       "    </tr>\n",
       "  </tbody>\n",
       "</table>\n",
       "<p>107 rows × 3 columns</p>\n",
       "</div>"
      ],
      "text/plain": [
       "     PE Ratio (TTM)  Cluster Stock Ticker\n",
       "0             12.89        0          AFL\n",
       "1             13.12        0          ALB\n",
       "2             13.60        0           MO\n",
       "3              8.45        0          AAL\n",
       "4             10.63        0          AMP\n",
       "5              9.02        0          AIV\n",
       "6             11.43        0          BAC\n",
       "7             13.46        0          BBT\n",
       "8             12.92        0          BBY\n",
       "9             11.46        0          HRB\n",
       "10            10.59        0          BWA\n",
       "11             9.36        0          COG\n",
       "12             7.89        0          COF\n",
       "13            11.13        0          CAH\n",
       "14             9.77        0          CCL\n",
       "15            12.30        0          CAT\n",
       "16             4.47        0          CBS\n",
       "17             6.92        0          XEC\n",
       "18             9.54        0            C\n",
       "19             9.41        0          CFG\n",
       "20             8.30        0          CMA\n",
       "21             9.03        0          COP\n",
       "22            10.46        0          CMI\n",
       "23            12.77        0          DHI\n",
       "24             7.72        0          DAL\n",
       "25             2.36        0          DVN\n",
       "26             9.43        0          DFS\n",
       "27             6.54        0          DXC\n",
       "28             9.91        0         ETFC\n",
       "29            11.33        0          EMN\n",
       "..              ...      ...          ...\n",
       "77            13.04        0          PNC\n",
       "78            13.36        0          PPL\n",
       "79            10.68        0          PFG\n",
       "80            10.68        0          WBA\n",
       "81            10.68        0          PFG\n",
       "82            10.68        0          WBA\n",
       "83            13.11        0          PGR\n",
       "84             9.23        0          PRU\n",
       "85            11.60        0          PHM\n",
       "86            10.04        0          PVH\n",
       "87             9.95        0           RF\n",
       "88            12.73        0          RCL\n",
       "89            12.36        0          LUV\n",
       "90            12.90        0          STT\n",
       "91            12.61        0          STI\n",
       "92             6.17        0          SYF\n",
       "93            11.87        0          TPR\n",
       "94            10.28        0          TEL\n",
       "95            12.88        0          TXT\n",
       "96            11.89        0           BK\n",
       "97            13.55        0          TSN\n",
       "98            12.91        0          USB\n",
       "99            11.83        0          UNM\n",
       "100            5.40        0         VIAB\n",
       "101            4.22        0          VNO\n",
       "102           10.86        0          WFC\n",
       "103            8.89        0           WU\n",
       "104           11.54        0          WRK\n",
       "105           13.59        0          XRX\n",
       "106           10.99        0         ZION\n",
       "\n",
       "[107 rows x 3 columns]"
      ]
     },
     "execution_count": 29,
     "metadata": {},
     "output_type": "execute_result"
    }
   ],
   "source": [
    "selected_df.rename(columns={0:'PE Ratio (TTM)',\n",
    "                            1:'Cluster'},inplace =True)\n",
    "selected_df\n",
    "C0= pd.merge(selected_df, data, on='PE Ratio (TTM)', how='inner')\n",
    "C0_df=C0.loc[:,'PE Ratio (TTM)':'Stock Ticker']\n",
    "C0_df"
   ]
  },
  {
   "cell_type": "code",
   "execution_count": 30,
   "metadata": {},
   "outputs": [],
   "source": [
    "C0_df.to_csv(\"Cluster0.csv\", index=True, header=True)"
   ]
  },
  {
   "cell_type": "code",
   "execution_count": null,
   "metadata": {},
   "outputs": [],
   "source": []
  }
 ],
 "metadata": {
  "anaconda-cloud": {},
  "kernel_info": {
   "name": "python3"
  },
  "kernelspec": {
   "display_name": "Python 3",
   "language": "python",
   "name": "python3"
  },
  "language_info": {
   "codemirror_mode": {
    "name": "ipython",
    "version": 3
   },
   "file_extension": ".py",
   "mimetype": "text/x-python",
   "name": "python",
   "nbconvert_exporter": "python",
   "pygments_lexer": "ipython3",
   "version": "3.6.8"
  },
  "nteract": {
   "version": "0.2.0"
  }
 },
 "nbformat": 4,
 "nbformat_minor": 2
}
